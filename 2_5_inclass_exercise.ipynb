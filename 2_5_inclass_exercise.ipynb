{
  "nbformat": 4,
  "nbformat_minor": 0,
  "metadata": {
    "colab": {
      "provenance": [],
      "authorship_tag": "ABX9TyMlAS1al07gVekzmYNx3NQx",
      "include_colab_link": true
    },
    "kernelspec": {
      "name": "python3",
      "display_name": "Python 3"
    },
    "language_info": {
      "name": "python"
    }
  },
  "cells": [
    {
      "cell_type": "markdown",
      "metadata": {
        "id": "view-in-github",
        "colab_type": "text"
      },
      "source": [
        "<a href=\"https://colab.research.google.com/github/centaursacadia/051-jQuery-WhackAMole/blob/master/2_5_inclass_exercise.ipynb\" target=\"_parent\"><img src=\"https://colab.research.google.com/assets/colab-badge.svg\" alt=\"Open In Colab\"/></a>"
      ]
    },
    {
      "cell_type": "markdown",
      "source": [
        "![Screenshot 2024-02-05 110418.png](data:image/png;base64,iVBORw0KGgoAAAANSUhEUgAAAiMAAACRCAYAAAARt7jmAAAAAXNSR0IArs4c6QAAAARnQU1BAACxjwv8YQUAAAAJcEhZcwAAFiUAABYlAUlSJPAAADkCSURBVHhe7Z0JvFXT/sAXJQnRQEkDpclUEZLh1auHaFAU8bykp1cpXqFk6lHGDBkLqZQkFdGkaEBKKkSlpIQmUaYMf8n6r+/PXse+p31u99zpnHvv7/v5rM89d+999tl77bXX+q3ftPayDqMoiqIoipIi9g7+KoqiKIqipAQVRhRFURRFSSkqjCiKoiiKklJUGFEURVEUJaWoMKIoiqIoSkpRYURRFEVRlJSiwoiiKIqiKClFhRFFURRFUVKKCiOKoiiKoqQUFUYURVEURUkpKowoiqIoipJSVBhRFEVRFCWlqDCiKIqiKEpKUWFEURRFUZSUosKIoiiKoigpRYURRVEURVFSigojiqIoiqKklL2sI/isKEWSH3/80Xz33Xdm7733NuXKlTMlS5YM9ijZZdeuXWb79u3mp59+Mvvss485+OCDTalSpcxee+0VHKEoivIXKowoRZY//vjDLF261IwcOdJ8/vnnIozUqVPHnH/++aZRo0amWLFiwZFKMmzbts1MmjTJzJ07Vz4j3NWuXdtccMEF5sQTTxThRFEUJYwKI0qRBUGkT58+Zv78+aZGjRpm3333NatWrTLHH3+8GTJkiDnttNNEQFGyDpqQO+64wwwdOlSEjsaNG5utW7eaxYsXm2OPPdY888wzUr+KoihhVBhR0pbff//dLFmyRNT9Bx10kKlfv77Zf//9g705A9PMDTfcYB5//HFz++23m759+5rixYubESNGmG7dupnLL7/cPPLII2JaSBfQ5MyePdts2rRJ6oJBfU9mj19//dVs2LBBzFBfffWV2bFjhznkkENM+fLlTYUKFeRvbmmA6Epef/11c9lll5mKFSuaGTNmyG/wHB988EHzv//9z7Rr186MHTs2+Eb+Qx3SnrZs2SJC0tdff23Kli0r13n44YebMmXKFAkBlGdFW6Atffvtt9I2fvvtN3lumCr5i2ktvi74zubNm+WZJgOCfqVKldQEqiQGYURR0g03aNi33nrLVq9eHWHZNmjQwH766afB3pzzzTff2FtuucU2a9bMrl+/Pthq7cqVK+2hhx5qTz31VOsG8GBrevDhhx/KtVEfN998s9RRItj32WefWScA2IYNG9oDDzxQvudLtWrV7AUXXGBffPFF6wSW4Fs5ww1QdvTo0dYNYvbhhx8Otv7Je++9Z48++mhbt27dYEv+4wZb++abb9pOnTrZGjVqWCeESV04gc46QcT+85//tNOmTZP7KMzQNt5//33bp08f6wRau99++8XahRM+bM2aNe2//vUvO2/evN3qwgnD9rTTTpPnmEw577zz7McffxycRVF2R4URJS3ZuHGjveiii2IDRv369XNVGKGTdbNiu27dugwd7vTp022pUqXsxRdfbN0sMNiaetauXWtbtmwZGzT2JIysWrVKhI0SJUrEvhNVGITvv//+TM+VVXbt2mW//PJLGbDcjDvY+ufgt2DBAhGATj755GBr/jN27Fhbu3btWJuKKggpY8aMEcGlsLJo0SLbuHHjTOuBghAxfvz4DG3jpZdesoccckjk8ZkV6h2BVFESocKIknb83//9nx0wYECGzjK3hZEwP/30k3SyzJhLly4tA9KMGTPSYobMoMjgcc4558is1ddHZsIIWp/OnTvL8cz6y5Ytay+//HI7ceJEO3PmTPvoo4/K4FC8eHE5V8WKFe3UqVNFmMgLvv/+e9u1a1f5PTQ1+Q319NFHH9kKFSrE6q9q1aq2b9++9uWXX7bPPPOMbd26tQih7KtUqZKdMGFCWjx/rj1ccgLfR/j+xz/+Ie2C9kGdXHfddXbKlCnS5gcNGiQCqn/30JwsXLgw1jYQNBFkaD+ZFQRPX9eUv/3tb/bzzz+XcyhKFCqMKGnH3Llz7UEHHZShM8tLYWTDhg22bdu2tkqVKtJB01m/++67KR2MGDi++uor+9RTT8VMVeGSmTAya9YsW7JkSTmuXLlydvjw4SJwhUFl3rx589j5uH80RbnNjz/+aO+99175DUxfefUMM+Pbb78VYcwLc0cddZRowMLC19atW23v3r3tvvvuK8f8/e9/t1u2bAn2poaff/7ZTpo0SYRHBMnt27cHe7LHzp077WOPPWb32WefWD1Mnjw5gxaINo95lPeNYyiYc7yWkHMgXFKniQrtyD9zSvny5eWdVpTMUGFESSswz4QHSV/yUhih00f4YNZ30003iSahXr164nORChgkly5dKj4M8UKZL5kJI8xu/XGXXnqpCATxMOgwwB122GFy3EknnWSXL18e7M0dGJgGDhxoy5QpIwPfq6++KoNZfrN48WJ7zDHHyH3iHzFkyJBIMwxtzw/CaHFoD6kEYQgBjus55ZRTcuxz8cMPP4iGivMhdNHWafvxUDfU0QEHHCDHnnvuuVkWzGiT1Bt+J76+77777jzTuimFB41bVNIGPPWJunAzMwkLJfICD/woXNuVKIB58+aZOXPmyF8nPEi0RDy//PKLhJZyHIXwXY7jHPzFw98NxsbNhs11111nOnbsaJYtW2bc4BmcIX9xgoK55557zLhx44ybhZoSJUqYs846y3Tu3Dk4InOIQHKDgEQHnX322cYNKsGevyhWrJg5+uijJYIEiKogusQJC2bFihWxuqLeiDyKh3pbv359hvrn+QH1SpSKE5iMG4gkYufZZ581zZo1k2vKb5yQIdcD5Dlp0aJF5HU4wUxyoQDPgDwpQDujTfo6Wbt2rWyPxw3iZtGiRbHjnHAndZFdwt/NyXk8vAdOoJH2Xrp0adOkSRNpJ/Hw7p188snmwAMPlP/dJEBCtvcE10i+nvvvv1/qaO+99zbt27eXdstnRckMbSFKWuBmTmbKlClm9OjR0qkziBJim1loLR3fVVddJYNc06ZNTc+ePWXgCXfcDK4TJ040LVu2lOPatGkjIacM8lOnTjXTp0/PEKZIJ+1mdfKZATpVMLBzH1wLAhL5ORo0aBDszZxOnTqZQYMGmd69e0vytkQwOBH6C4ReIvRQ9+PHj4/Vl5sVm8mTJ2eoI66LcGHqnnrnOK7xm2++kf3su/76681TTz0lQh7nczP7lAgiCE08R8J5AYHj0EMPjQyJZpt/9kCYMiDI9OrVS+6TQv36e/VQJ6+99po544wz5BiER9pXlHCcKgiL79Gjh4Sy8xdhNBEIoLyTwDuI8LonuNcJEyaYmTNnyudatWqZ7t27S30ryh5xL5GipBxMIl6VjmnijTfeELU06n22RZlpCEl9/PHHxQzAMaiE77vvvgzmCxwXTzjhBNmPz4CbqYk6Hkc+Ijtw3ty8eXNwtBXbOL4DHD9ixIhga/6Cmhw7PQVbOw69QLgs10XZUzTNnsBc8uSTT8ZCfs8880y7Zs0aOSd/cTj0v0VYdTj82Qkx9o477rBucJP9ODy+8MILct2YZq699lrZ165dO6l/TEKpAvPAgw8+GLsXzFbe/yEK7sMfy33xfeqECBtMN2wnQglTGPfroc4IefXfdcJ0jn08aJfeTENbza/QWN6rG2+8MRaJRVQbTtF7gjaCYzDfwUH2rrvuijSHKUoUqhlRUg6zc9dxiXmAGRhZUcncGTV7DcNs3g0uplWrVvI/M32yfzpBQ2aqaEU47wcffCD7SfXev39/SehEoquGDRuKaYJkXKtXrxZtCbN4TAqVK1c2bkCW7+U3aBC4zttuu02uAY1FboP2gvtkBkw9V6tWTRJ/8bl69epiYiE5GlB/jz76qMyUqVdMN4MHDxbVPc/giiuuMOedd56o4jFtjBo1So4755xzRFM1e/ZsM2vWLCne9JFfcD/MzNF4ARoSnnMUXDPaNg+z+59//lnO0bp1a7lP7hHtERq8BQsWyHdIKPfAAw+IiQbQCPDsSKCWVahbtE/xhfMDf6OO8c8kt+BcPO9XXnlF7pP7RYMSZeoLQ1099thj5osvvpD/aUNoRTT1v5JlXONTlJTBrH/o0KGiDUFzwWyaKBIgV0ZmmhEPznXhiBN/jieeeEJmaGxDA0D4ahhmmh06dBBnPrQqeP0TacBvkQzMdfbBkelBbmlGtm3bJkmt/Lmc4BXprHnPPffEZsckMnMDlMx+SaLmv0vuE+8gi8bhkksuie2LKmhM8hu0bIRr8/uEsuK4G/VsaTMnnnhi7Fo5NpwvhfbYpEmTWJsiHJi8KsOGDYtpmMjBgRYlGUddniNRM06gyVAIb/eaBrQ0hCLHH0NIepSDcnbhHQs7kFMfJEjbE+QQ8XXMO8S7pyjJoMKIkjJQgZND47jjjpNODMEDswTbIavCCJ25m+WLMMGxDJyEcnqPfnImXHPNNZEqYwaThx56SEwzvXr1kpBEIlnSUb2cG8IIgkj//v1j4Z0UBr2oLKwIeWTO5BgGYMwQXnhjG/kkiELycI7nn39ehJhEhQE0v8EsR54Wf7+YPMidEYbQ3n79+sVCoilkuw3nxkCAQUglXJr91MPVV1+doZ3997//TTpzL88RIcf/bjKlRYsW0oZzA8xCmLH8uRHQMVXu6V3guZM/xrcL6hezlaIkgwojSsog1JBMp3TizMDx9wgPiskII/gqdOvWLZZLAvu+/8xMz/tDRIHwQx4OZpjJakM4J4VzZFYS/XYy5EQY4Vh8GJhd+5BNCv4ADMRRcN2vv/66rVWrlhxLnXq/CQQ+NFrenyW3yc065Vg0CN7HhUJqeoQwtuM7g5YjXC8UNCNeS+fBXwafGH9MWHghQVhYk5JVuI+mTZuKwBdf/LkpUfsJu82pMMLvf/HFF6It85owzn399ddHhv6G4burV6+O+csgkOBPlFftQim86EJ5SkrA3v3QQw9JFAa0bdtW/DXCNmb8OIjqcEKILAxHVEyNGjWCvbvjOmWx6/soCMB+P3LkSPFByQu4D+zrzz//fLBld1hwDHt6Tu3nLNznZuLyGZ8OoiLcoCH/ZwavOD4i+OJQh+AGDVkMEN8GfEUS4QYbM3z4cInMwX8C8GkhuoSInbxaSBDfA1ZO5roT0aVLF4m6yiosjMi9bNu2LdiSEXw88EGiHRJBQ1i5E2J3u0dCfWmvb7zxRrDFSIj0Cy+8kO12hl9NfPQW/i1OABUfqCpVqkh0GX/D4NtEpFJ2nwNtAx+Ra665RsKXAf8a2ooTurLkK0J9OUFG3gVWZiYknb+KkhQII4qS32Ce8fZwCuujYNsPl1GjRklqbvYfeeSRsrYI25ctWxZpVoBw5kcKUSFoYPIKrsMN6Bl+M77gR8CMOqdkRzOCVsANNuJH4zVFaKJ69uyZ5Vk86nv/HCikzMdckZewKGCdOnVivxlVnHAWHJ010HyhBWEWH9aSUB9o3oi6wT/Ca398NE08+INg2vPfp2AuCUdl5QZ5HU2DFpCFA8NRQPi+oNnISvQMoAH597//Hft+x44dE76bipIZGk2jpATX6cdyPwCzYLQa4cLsn2gXYIbMzJbtRHKEv+tBMxLWigBJnkhexgyuKOIGddFikMOFOiDhFdqVAQMGSM6NPcF3+G44AoUomgkTJsiy8wUJZvnkCBkxYoTkTnGCibQ7ZvZjxowxXbt2legiZviA1oFokng4hu+HIbLGDezBf+mPE7IkLwptYeHChbLNCWhm4MCBsq1cuXKybU84YURy9YAT6kSTidZNUZImEEoUJV9hjYx4G31WC+uGYOP2oCHAaZDZvp/VlipVKuakSfQHTqlZ0SQkCzNnZqxEaCQqubUIXTKaEWa9aJ+IlPHf4TPaBKJeslIXXPOcOXNiGgr8AXBq5DN1i9PinnwKsgvPkzV2ourTF3LFZAXug9k6GjIKdcP9s91/9qCh8/VFro14OI8TisWngmOIAvOfyVmDn1NutbO80ozgkOqESfH74dxcP8+Ybcn6ehCFxTl8XeSlFlIp3KgwoqQEBrn//Oc/slJuotKmTZuYwELHyWJubMcUQ1SIh87/ueeeiy1tTrQDESONGjWKdZSoj/Nq4MwvsiqMMMiyZD/Jyvzx3syVTMgp0TSE7vJ9TDyYIohKQtBjG+va4OCa7nAfLDaHsIpJLZHDJ07M4WRvrOgbBsElHE2DqefOO++UdX18HbGeULzTa3bJC2GEe0A4DpvdENZ5juxLFhKb+fPgKK4o2UWFESUlMCgyQ8+soM3w+UOOPfZY8SNgO/4X4YGYwcZH3VA6d+4s0TVESng/CaIECP8tyGRVGCGUFUHO3zuhp+PHj09KEAGEPq9dYvFABEhWZD3rrLNi14G/QVb9C1IF4blnnHGGXC/aCzQu8XWHAEd78QsT0p7Wrl0b7P0TokbCeUaIBEPwIGsrYcBsw58G7VNu+E3khTDCO9S4cePYPZCdmFV6E7WlzOA7rVq1kvNQEFQVJbuoMKKkLVkJ7UUtfMUVV8Q6RAabDRs2yD4G3y5dusQG5bp164rpgoGnIJIVYYRtrJLqzVU4JJK6nLpjUE5U0BZ4zRH1Q74XQls5B+di9V0/cya3iM/pgrBCuDBahXQl3A4YhNGwcc/cD+X777+XpfS9OYp7wokzLFDQznr06CHOrhzDqs7vvPOO1Df7yFPjBbcjjjjCzp8/P/hm9uH3EZzQaM2cOVOuMydwnVdddVXsHnhXhg8fLuau+PYQLrxPUblGCAlnksC5KE899VSwR1GSR4URJW3ZkzBCZ02uC782DbNakjSFB+mVK1fG1qZhICKqBM1B1ECe7mRFGGHAqVatWuw4BmC0GqjlMysIaqjqOSc5WcJJuPDRCZse0EyhnvfmGr5PsrNkNS/5CcJB2H+GtWPQYOC7dOWVV8b2MVBjmkIL4qFOMAN6AY/cIkTlhIVa2qbXYlCaNWuW47Vpcpvly5fHTEwU7gfTZnxbiC8IXlETgRUrVsTeT86FAKso2UWFESVtyUwYYYBYvHhxbGaGoEH2yPgEXjjkMWNjQOY4fFBwUkzngTMRWRFGMG35GXoyBQ3KlClTxAx20003xRxVCb/GdyLsT8DvMpsmUZf/PmaEeLNGOoHgQPbXPTlNY3YitXlY0GDQpf35Y0iQhtAXhjohpbs/BqEGDVU6ZfJFYPTXl0xBgIkyEb399tu2SpUqcgxh0JiAFCW7aGivkrawQFz58uVlwTYKoYMe1/mbF198UZJTsc8NhpK4iePDcI4OHTrIQmcsmOYGWTNs2DAJzyxoEJrq68Iv/BYPIdDhOstqIfEZYb+ER5PAjd9ys2Jz2WWXmebNm2eoeyf4ycJ6/fr1M7Vr15bvk6SM5G/pyt577y2hu4TxNmnSRBZKpA6dECZJ6UiORxK5sWPHSoI9jgcnhJnnnntOwpi5TxaNu/XWW+V7YagTErCRmIzjCI2dMWOGWblyZXBE6tm8eXPseSdTWFiyePHiwVn+grohURzH1KtXT+pRUbKLZmBVFKVIsXPnThmYEdx+/fVXGWyrVq26x2yjiqLkHSqMKIqiKIqSUtRMoyiKoihKSlFhRFEURVGUlKLCiKIoiqIoKUWFEUVRFEVRUooKI4qiKIqipBQVRhRFURRFSSkqjCiKoiiKklJUGFEURVEUJaWoMKIoiqIoSkpRYURRFEVRlJSiwoiiKIqiKClFhRFFURRFUVKKCiOKoiiKoqQUFUYURVEURUkpKowoiqIoipJSVBhRFEVRFCWl7GUdweeUsGvXLrN161bz008/yf8VKlQwBx54oHyOguO++uor88cff5gDDjjAVKxYMdijKIqiKEpBJOXCyHfffWeuvPJKM3HiRPm/f//+5pZbbjH77bef/B9m586d5sEHHzT9+vUze+21l7nsssvM008/bYoXLx4ckXe89dZbZujQocF/yXHPPfeYKlWqBP8piqIoihIm5cIIP//oo4+KgPHLL7+Yhg0bmilTpkRqPBBc2rRpY958801TqlQpM3bsWHP++ecHe/OWkSNHmiuuuCL4Lzk++OADU69eveA/RVEURVHCpNxnBA3HeeedZ0qXLi3/f/jhh2b16tXyOZ7169ebRYsWyeeyZcuaJk2ayGdFURRFUQouKdeMAJfQpUsX0T4AZpsnnnhCBBUPx9xwww3m3nvvlf9vvPFGM2jQoAzH5CU//PCD2bBhQ/Bfchx11FGmRIkSwX+KoiiKooRJC2EEXn31VdOyZUtxaK1atap59913xZnV880334gmZMWKFaJF4fhTTz012KsoiqIoSkElbUJ7jz/+eHPcccfJ52+//dbMmzdPPnvmz59vNm/eLJ8RQqpXry6fFUVRFEUp2KSNZuTXX381d999txk4cKCYZC6++GIzfPhwcVTFsbVnz55ixtl7770lOuXqq682++yzT/DtvIeQ4m3btgX/Jcdhhx2Wr9eaar7//nuJesK0FQWmtXbt2pkGDRrIM8YXKBGnn366aMQmTJiQ0JcIzjzzTNOsWTOJrvriiy+CrRnhdznXueeea26//Xbz448/Bnt256yzzjKNGzc2L7/8snn//feDrbtz7LHHSlsdP368+eijj4Ktu1O/fn1z6aWXmsceeyzT+23UqJH4UM2cOVME8ERUqlTJ9OrVy0ybNi3T49Ay8u48//zz5r333gu27s4xxxxj2rdvb1555ZVMj+N+OW7x4sVm6tSpwdbdIez+1ltvlfuYO3euhOJHQZRZp06dzDvvvGNef/31YOvu1KhRw1x00UXybJ999tlg6+7QPwwYMECexUsvvSSa1igOOugg061bN/PJJ5/IfRCpFwXvLs8XEy1tMBHlypUzXbt2FQ0u/dTvv/8e7MkIbbBPnz6SzoDr27FjR7AnIwcffLD8LucZMWJEwvrjONrV/vvvb4YMGWJ+++23YM/u4IC/7777Slvdvn17sDUjmJP5XbTPo0ePTvgO83u8w9SPN51HwfOgXvz5tmzZEuzZnQsuuMAcccQR5rnnnotNPOPh+nh/mbzed9995ueffw72ZIR67tChgznppJPkGpQCAMJIujB79mzrOk+EI3vcccfZJUuWyPYPPvjAuoFLttetW9cuWrRItucn48aNs2XKlMlWWbFiRXCWosFnn31mK1asKM8rUXEdp3UdonWdReR+X7p37y7nc4JG5H5fevToYTdt2mRPPPHEyP2+9O7d27qBxzohN3K/LzfffLN1HaJ1HVrkfl9cx2jdAGRbt24dud+Xtm3bWjdQWDeYR+73pUuXLnI+7jtqvy+8B26g2ONxvDdO0LetWrWK3O+LE4Ck/pygEbnfl5YtW0q9DBo0KHK/L7R7N4mwbtIQud8XntfatWtt3759I/f74oRS++mnn9pRo0ZF7g8Xro/2FbXPl8MPP9wuX77cOqHZlixZMvIYCs/LCV7WCZGR+32pVq2adcKydcJr5H5fihUrJucbO3asdQJM5DGUypUrWyfIyfmKFy8eeQyF98wJe/bDDz+M3B8ukyZNsk7gi/WxUcUJGdYJrnLOzN5hJwTJPThBPXJ/uLz66qvWCYe2Tp06kft9eeSRR+zSpUutE4wj91P2228/O3jwYLtu3TpbtmzZyGN8GTZsmHXCaNArKelOWomMzLoo4DoemZEyY1m2bJlZtWqVbGcG5zpi+ZyfoJ3BfJSdkmjWpSiKoihKGplpAFXkww8/bG666SZRv5HUDNONm6WK6pNEaE7ale35FUXjQZVLMrZk4TpfeOEFiagpKmD+QNWaSIUKTZs2NW6mZCZPnpxQJQuYN9zs2bz22msJzS9wwgkniEqW85GhNxGcC9PPk08+KQJmIjCXkBsG36XMzEOYD84++2wxR7gZfrB1d2rWrCnqZVTkmamq8Zvi+hYuXCj5aRJxyCGHiBr67bffzvQ4nMAxb+DwjUkiEfhgNW/e3Lzxxht7vF+OW7lypSQCTETJkiVFPb9gwQKzZMmSYOvucH04rmNWwWk9EYcffrjUM21lxowZwdbd4X3jd9esWSPmoUTdG2akCy+80Hz++eeStyiROad8+fJisqNNzZ49O9i6O5h92rZtK7mQyJOU6HxcH2YVzCRcX6I2SBZqfpfzYCrM7D5atGghfSN5lxL9LpCjCXPxrFmzEppfSCB5zjnnyPkwASZ6h3m+f//736V+ML9kBuYXzO3Tp0/P1NTN+TD78C5h7oqC6zvttNPkfcJch3k/EbRTJq97q5mmQJBWwgisW7dOGiWdBB0QL9gll1xiNm3aZI488kixVWOfVRRFURSlcJB2IiMOTDgOwsaNG82YMWNEEAEkdhVEFEVRFKVwkXbCCCq1jh07Bv8ZM27cOPmLehO1qqIoiqIohYu0NKZhryfsE7zNEtMN9j9FURRFUQoXaSmM4LxFrgVPsWLFRBghpl5RFEVRlMJFWgojJOZBO+LTwZMY6ZRTTtH1XRRFURSlEJKWwggBPoRs/d///Z/4ihCO2bBhQ/msKIqiKErhIi2FEWLvicEnZp94d+LoieNXFEVRFKXwkZbCCOtU+HUgypYtK8KIoiiKoiiFk7RJenbXXXdJhk0WWWPBrK+//lrMMv/73/8k86maaBRFURSlcJI2wggpg1988cXgvz/BTwQNCYnQFEVRFEUpnKSNmYaIGQ9aEKJp7rzzTlO5cuVgq6IoiqIohZG00YyQ8p2FsliQisWSWPSMxcBYGElRFEVRlMJL2i2UpyiKoihK0SIto2kURVEURSk6qGZESXtoon/88YcUYHkA/Io0wuovwnWEaTOqbnbt2mV+//13s88++8iClHyHwnZgG0XrVVGU/EaFESWt2blzp1m6dKnknvn0009lIK1du7Y544wzzNFHH60DZ8COHTvMc889Z9asWSOO39RTPKyAPXHiRHP77bdLHX722WfmrbfeMsuXL5eMx9WqVZM1oI4//nhZkkFRFCW/UGFESWumTZtm+vTpYzZu3CgDKIMmAy5h308++aQ59thjgyOLNmPGjDF9+/aVjMUff/xxpDBx0UUXSVbjp556SvL59OzZU4S8WrVqyfGrV6+WqDZy+7Rr106dxxVFyTdUGFFirFy50rz55pvm0EMPTYtVkjdv3mzat28vGpH+/fubs88+W9YrGjlypAyobdq0MU8//bQMwOkMr9jPP/9stm3bJhmFDzjggGBPNKtWrTJz5syR5/CPf/wj06UQOC8aEQQIBLYjjzwyUhjhuJo1a4qQcd9995lu3bqJANOjRw9z5ZVXyiKUb7/9tvnvf/9rGjRoIIIewl9BB7PU1q1bRYNWvnz5SI1Rdlm8eLFo7SpWrCjPaf/99w/2JAfPe/78+WIiQ+PHcyoq/Pjjj+bbb7815cqVM6VKlSoQms7ffvvNjBgxQkyivCunnnpqsEfJEQgjivL555/bRo0aWddZ2+7du1s3cw72/Mn06dOtE1CyVNzAaF0nE3wz+7z66qvWDa72n//8p3UdgHUvvxQnpNh69epJ+eSTT4Kj04uffvrJOsHOuoHeVq9e3bqBRkrx4sVtjRo1bOfOna0bgOwvv/wSfOMvVq9ebcuUKWNdx2yHDBki9xzFhg0b7Pnnn2+LFStmq1WrZkuXLi319euvvwZH/MVrr71mDz/8cDtu3Dh5Nnxu1qyZdYJe7Pz8veSSS6wbGOy0adNkW0Hk66+/ts8//7x1AoJ1gl+s7p2wYDt27GinTp1qf/jhh+Do7NO3b1+peydA2C+++CLYmjxO8JNnR70/++yzwdbCyY4dO6Qt8k4fccQRsWdDqVOnjr3qqqvsO++8Y92kI/hG8qxbty6yX4oq//rXv6Q/SQY3qZB3k+KE92CrklNUGFFk4Lzjjjuks65SpYoMkvH0798fDVqWStu2ba2b7QTfzD5uhm8fe+wxO3v27GDLn9B5HH/88SKMuFllsDV9QBi49957bdWqVSPrxxf2P/roo7sJbjt37rR9+vSRY3gea9asCfZk5IMPPrBuViYD7CuvvGL/9re/RQojCBk33nijrVWrlgg63333nX388cft+PHjZXDwcBznQhCaMmVKsLVggRB9xRVX2AMPPHC3+valbNmy9rbbbstw71kBgXjlypV206ZN8v+dd95p9913XxnUvvnmG6n35cuXy+dkQBjhermuwiyM8GzuuusuW758+cjn4kvNmjXtE088IfWdHWi7UeeNKkwMEF6SAWHEf1+FkdxDQ3sV89FHHxn38hsnlIgan4Rz8Sxbtiz4lH+4mZKYEVxnH2wxohpl7SJMEiTFczP8YE964N4pM336dHP//ffLWktAFuFrrrnGDBo0SO6nUqVKsp39Tgg0s2bNikW0ANFCF198salbt6758ssv5RjMLPGwTMJDDz1kHnnkEXE6TaTi/uGHH8x7770n18F3MPt0797ddOjQIYNpAZ8RTDX4jaRbvWYF1OdOyDKjR48W9T9gPsFhd8CAAebkk0+Wbdu3bzcPPvigmLfC9b4ntmzZImtoOYHNDB48WN4Xb/bB96Zr165i8sLUqWQEc9mkSZOk3pywJtswR/Xu3Tv2XpQuXVq24xNGm3/jjTfk/2RZsWJF8GnPFASzUJHhT5lEKaowC2/ZsqVI+aiKMdfEg8oUFTLHYMZxA5aYRxIVNBeu8wm+nXtwTlS8bpCWa503b15CE0ZW+eqrr0TDQGHGk9PzoXk488wzpa4wybRv315MIcyamelhlmH23Lp1a1HxcxzajfXr1wdn+BOOv/XWW22JEiWsE7rEvOIGzmDvn3Ct/nr5fpMmTSI1I4sWLRIV+AMPPBBsyQjnRcPEDL9UqVKiJcvurDQZ0PhQ727wsE7YCrZmHzd42aOOOkrqdL/99hPtB1og7oXihAnrBj1pwxyDJimR1ikKzo9pwb8HaEX8c+b3UNvzTNFCJXM/hV0zQhulzR933HGxuuvUqZO0WfoWng1tdunSpdIGMdlQl/RL2TF/XXDBBfI7lOHDh0f2Ub5wDcm2ddWM5A0qjBRxlixZIp0pL1avXr0iX0xeWmzvHINpJDdMMMmCIDJnzhx7zDHHWDezt7fcckuwJ2egNvb3z0AQP+AnA50u/gheDU3nS/1GgYCACYbjSpYsKXbyeN57773Y4Ir5BF+IRCQSRrgfOmSeH+eL4sMPP7TnnnuuDAL4jCRrZsgup512mtwb/isIJTmBdotpzAsa5513nt24cWOw9y+oA0x8HJOsbwzq/Ntvv91efPHF9uijj5Zz+MKzpA55hzhnlC9QIoqCMPLSSy/FhO8TTzxRhPZ4aKv4pvn3gra8cOHCYG/WQLjBzMP3ea/ywoyrwkjeoGaaIgw5PIhGcZ2ARKRgDnEDc7D3L1DfcwwQSus6fPmcFdyLK+YICqYV1LVRcC3+OErYLMG+KVOmiKmDc/CXqI/cwHWUwSfXs+QwsIx7Q8XMPYMTnIwTSORzPCeccIJEvoATHiTnRzyYaTBVAaYcop2SxQ2KkkeESBL/e2HY5wZQM3PmTFk5mxwlRDbkBzxXyGm9A/dJ1IwTqIwbhIwTdCTKJR7MT347URyEOmcV6u/mm28Ws1jYdAgVKlQQc9ADDzxgnFAi15DXOAEswztDuHYUtHFMI/44PofbfX5A1JHvQ4g+cUK2fA7Ds3OCSmyVdt511ipLpn3wHV8P/EZmkWhKeqHCSBHGzUbN3Llz5WUnRC1REjE3c44NHAyuCCN0hNjMGQToZKI6DDo8QuAIVzzllFPEF+WVV17Z7VgGcTp4jqEQwosfC/hQXmzKLKboZr+ST6NMmTKyP53gvqpXr246d+5sWrRoIfdNyGwU8fVMfcbDgIYPDyDguFlzUh0z8D0GAnwnwiHQ1DnPnmvFnwQfkiFDhpiqVasGRxQsCJe+8cYbJawZwe3SSy+VwS0MdYfwgQ8NEEqabFg4bRr/kGeeeUaeYdOmTeU58S7hv0N7zS8QYM8///zYe4OQjkAWbiNcLyHItCOOQUjDX4b3Nj8hl02nTp1Ms2bNzJlnnrnbs/Gw3b8btFEvwGQVJk7+GTBx4tlwHiY39Ff0Y8m+Q0o+4R6MUgRxL6gdPHiw+CS4DsBeffXVElUTj3t57UUXXcTbK8cOGzZMVK533323hOFde+21EvGCejU+HBjwH/E+FBTU22H/CK6DEF43s5T9mEyuv/56Ue26jkgiPrDHEx6L30Rug3+EN9OMGTMmR2aaZCAqg3vid12HmVAdTeQGfhwcR7RTopDpRGaaBQsWiFnLDZ4Z7g0zESYvImeog6hnn9ecfPLJcl+VKlXKsZkmK1B3tNuDDz5YfheTYyLTVSJ4Hm6Qk+/TljFx9ezZU0wQvB/Uc7Jk10yDKQg/IPynuB5McbyLYVMrPlFhHwonkEhd836lG1xT2O8H/xzabzLcd999MV8e+hH6Fid82d69e0t/RX1NnDhRwuKzi5pp8gYVRooo+H0QAskLxYA0evToYE9G6MwY5DiOl7xhw4ZyvH8ZfcHJkpd97dq1wTf/AqfTsAMsAowPq8S586yzzhKHNfaTG8ILK/iqYF+mo77hhhvs+++/L86OvuB8mFPHx1QII1zzzTffLEIIv8vglsiREmEQpz6Oo45wHo4ikTDy8MMPS6ceFnawq5OfhHN26NDBuplzhnpFUMLxM6/JD2GEusZ3hHpDaKhYsaL8JnWP31GyQhgCN7lfcAh+5JFHpK4RaBjkL7zwQhFOkiUnPiMIR/yuf38YyMNticEXIYl9CGEvvPCCtKl0hNwvCA3e74f2HNWfJIKJzb///e9YXeAbRP4dPocLQhvtHz8tvpMsKozkDSqMFFHosPxgwAD27rvvBnsyggDgveB9YfBmts5LTafuX346kRYtWojnfHjmxYBAx+8d2HBYJC8GAkm/fv1inWXt2rVFcKGDQCgYOHCg7ON7aE7oWMKladOmcn1ZYfv27TIgx5cuXbqIZojf5xoZtML7Gahz02GXgQDNUuXKleU3+e3rrrsuYc4L6iKc44XcFlFECSM8g1atWokz55dffinbYO7cuTL4cT6ExPh6pXCNucVnn32WoU598U6gaG5GjRq1234EI2b/OQGHUwZo2pwXOikk9suuoy7XxPvjBTaeKc6tCO7ZISfCCM8YASicu4NJBm2AOgy3M961sKCaTvC+MxnwWh4mPiRPRHDOKjh440Ts64FC34Fmlb6Kv74Pos+iX0NzkuwERIWRvEGFkSIKHRUvJy8UM4hEHenkyZNjJhQKSYIIOUVoWLZsmZ0wYYJt06ZNbHCjdO3adbcMl6hFCXP1nQGmm4ceeig2C0K4efrpp2MdA6pmEoIR3peodOvWLdIrPwoycoYHo6wWBkoiZHID7g1BAE0A56ZDJAtqZh7/DDZ00v560CJFdZ5bt26VkFIyvno1PX8R2O6///4Ms2FMaiSmi6pTX7jO3AKBz19/MgVhOavPNxEIY1HnZhBBG5OdmXFukxvRNAhz/h1EA4Ig7zWatDMmCfkVJZUsCBy0ScyQ/vlwvWh9kuGjjz4STao/x6GHHip9BII1fRWCx3/+8x/Z7o8hvBthORlUGMkbVBgposyaNSv2QjVu3Dih6pZOgheW2fJJJ50kA3P4WAZLOo1w/gYG8HhzAsexzc/UKMxW/GfSMufU5JIZqRZGEAxmzJhhGzRoEDs3dcqgT90kgn0Ifr5uCYdN5DcSD0ILeWNSEYodJpXCCGY4/KHIaIvQ7NscmoLTTz9dVPXJzoxzm9wQRtD8kbvDa/nQKIY1jrSzVN9nFGhqMB1xjf65YwJLFBKfGWiI8G8jtJfzMZmJ71PQZmFm8xoYCtmIk0GFkbxBF8ororgOQFZxBSI/nNAhn+PZsWOHeOjjiU70AdEWbmAM9v4FIYNEj/AXiI5hVdgwbhZqXAchWRfDEM5H1kyiefIKIkoIY3aDe7DlTxYuXCjRQuCELlkczs0k5X/gnt1gKmG62YX7JjSZxf7WrFkj13DYYYdJHRENUaxYseDIaFhErXXr1hKK6iOSosJW05WxY8eat956K/jvL1588UXz9ddfSzh5q1atZGHAMEQmXX755bttTwYysfI83SAtkTS0czJ+OiFNthFNRBSRE1KCb+Q/LPp47bXXynv18MMPSyRQstCNExVFWw1nS+a+CNcmO+y+ESs5Z8a8efMkSigRTpiWKK3s1h3X7IQv069fP1kUE3j/yF58zjnn7PG9iMcJNtKefPZdQoR5f+OhT6OOeY+AftBNVuRzViCDrw9/d8KIRCcpuQDCiFL0wOuex09xL2awNWfgIOjP6QaRYGtGmKV79TGF2RuOgIk0M3lNXjuwYq5i5uVnqajMTzjhBDtz5swsmwjw5/GJoDCp4dhbGMjvaBpA00REmDdRUvBxSiW5oRnxDB06NOYYTaGtZTdSCnOrP09Uad68ebaiUngGaHIwH3pNDgUNLdpT9uc1ROb538X0nIy5TjUjeYPmGVGSjuVPBDMlD2uqRLFu3Tqzfv364L8/82uw1ox7wYMthQeSS6H9YObHfYIbgCUfBfkWkpn5uXc1+KTkBLQkrMkTns2jJSkMoPlBy4cmzsO9scZLOrUfNK133323GThwYExTefrppxs3QTJOIMmgmcwrWH/JQ73ld94VZXdUGCmikJHTk5kgsHPnTtm/du1aMRNkRviFZhG7eFCP3nbbbRmEESD7J4uWFSYwa9HhkqTNq42bNGkiangSTyUjiKB+9lklS5QoYdwsWj4rf4FAjYr+/fffN3PmzJG2loiDDz7YlC1bNvjPSJbPgg4CCGYHzK9hYQSTAm0uKsPvnsBUgvkoUWnfvn3SJhqEcpIWsqAhQgCCB7+D0F6vXr3gqOxBG+A94V692ScRvFMezFcl8yFjrrIHRD+iFDlwaMNkQBPAMRUHy3gIlWOtElTaOHISVprIjIGZhXwHnI+C+SMMjmSDBg2KqcfJ90DkR9jplYRHuW0m2RN5YabBNEO4ro8cwkTD2jKE3yarguZ4ogA4DwWny5yGu6YLuWmmISICNT8mCsJ4M3M65vmEI8Rw5k4luWGmYZG5WrVqyf3Q3oiIql+/vvyPKQQTanyE257AdEG/kKiwP5n2TH9CNIs3zfCsCLEmEiynphkcYXmXicqjj6HfShQuz2+RHM0/fyLUkkHNNHmDakaKKCwd72c1pE9mBhUPzl+s5YHGgxkHzp6oWKNgRuqdFJn1k17ew4wFZzgcSDkXv4sTK2t5NG/eXI5xHaWobeO1JgUNZlykwB82bJjcN5oM0mDjuIsZK1kVtHtHY0uugxPaknZELArQpnCupv5po2hHnAAc7P0LNxCZGTNmxDQnpUuXllTlBRk0bzjlfvLJJ/I/pkDaG+nheYe5Z949J9TK/qzCe4xTbaLC/qy2Z+obbQjOzFwP9e4mI2bw4MGiRc2paYbrcUKtvC/0MStWrJDU8PwfD1qTCRMmBP8Z0VQqqUeFkSIKnQELfwGCQJQQ4GYYshYNxwLCxuTJk2Pr1AAvO3ZpzBF+0CQqhQgZD4KOm4nEVMUslNWxY0eJkqDD5Do4z4IFCySqBhNHftGoUSO5BoSjnEbzcA9EHwwdOjQ22LVp08YMGDAgg1kgGTgni9l5UGXntONOFy677DKpdzdbjjTrJQNCGmuRECFD+yRS5+233475JACf8anAbOEFFdaWwWxTUEHgJSJl2rRp8j+DMj5KCL4XXnihRMoBA/Q999wj5tb8hja8ZMkSEdB5L7hG/HZuuummyGiXzEDIQJikECHn4bkTiePXVlq1apWsHxTfl2BqxiTkI47oe4hUU9IA11CUIghRLZ07dxZVIzH3qIpdZx3s/QtUqCTI8iYdEhNhgvApxN1MR1Jhe1MH6u9JkybFvNNJaEQqd6+aPeyww+z8+fNjv4XJgQRN3nzDtbz88ss5VttmFcxLmJAoyaqd4yFqgXTWvq4oRMFQP07oybSQByUK1OGYH/z54vO3FGRoG9Q7bSCn5jGeG1lRfep8CksUEKlF/gmSXpF3gvWAvPmsbt26dt68efluGownu2YarnvOnDmSl4P74R0kn0o4eoZ792sg8Q4S5YaZIb/eL+C3SHjonwuFfENR70G4uEmL5DkKPx83cZA+goIpKgztyAn+sWgisri2a9dOzL8ff/yxdQKb9GVs9/sx7fC9ZFAzTd6gwkgRhRec5D/+xWVdGeyuURBKyoDoBYpEhZTU2GK9rZbBneyHfmEyvo/gEQ8CD3Zbfx7CV0nWVdDgPuJT52e1UG9R0PG5maQcQ+bIRM9I+RMWVqP9xNdvfGGRQBa1Q9hLNdkVRkjxH05/fsYZZ+yWzReBjzB+fLI4hneRUHO25xcM9r4NJ1tGjBiRQRjB58TvQ/CMh6Rm+Gf5fi1RYfLTq1cvWcgzWVQYyRvUTFNEQa3ZsGFD8QkB7KtbtmyRz/HUrFlTbNAk+IlKQIVfBCF5hKyicscfBQjvRTXrI0Ew3+A/EQ8qehKCeXMQqlhU6U6Ykf8LCm5gy3aYKM8jCkwN3ixG1IH6i2QOy+TTVmlnvj2FoW1iIsCUhqkQk0FBxQn65rXXXpPPmAG7d+9uatSoIf97eDfbtm0roeSY94hgIanYpk2bgiPyHqKcwqbdZIg3SeKn4gl/9mCuwxyFP1qULxDvWd26dcU/DTNRQUoeWNjRDKxFGOypZCJ8+eWXxQFw3Lhxxs20IgdGmgl2dpy/8P2gIGTQCdapU0eyZSKohDsInAkRcHCQBWzzCB5R50fwYCD3AgiDBoJSQfKPoMOlXrLzSlF3ZcqUCf77E4QbBkz8H7CtkyWSTKVK5vzxxx/i1Llx40Zx6vz000+lzdFO8RGoUKGCtMVEAmB+k90MrDjq+nB7stjyvpSMCFGlPSIQIIj4tkl20vwSbGnH3l8sWRAWECp9P0AYNvcB9BGVK1eWz2G4R36TY+lTeP7UEz5wCGv4lnDe7N6/ZmDNG1QYKeLglEpKZwSGzp07iyaD2ZSSeoheYmCiI8cZkaRQUZoppWCTG+nglfxDhZG8Qc00RZxGjRrFQtumTp1aKBJAFQaY2ZGZFnU62qeWLVvGOkBFUZTChgojRRxmY1dddZWoLFHlkiMDNbeSOlBWolpmcT00VuRsIUQzykauKIpSGFBhRJHEY7169RLzzMiRI83ixYuz5feg5A67du2SfCs8B7Qh5GhR84yiKIUZFUYUcRBjqXZm4Dj9kSXRr6ei5D8koBs1apRoQnr06GHq168f7FEURSmcFPufI/isFGGYgZO1ES9zQt+IPMD7XMl//CJfZIbEqTgqRFUpPGAWxS8I/60zzzxTw00LAETOkc6ADL4FfTmBdEGjaZQYNAU6RsLofFHyH30ORQuet++G9XmnP/79BJ5VuoSIF3RUGFEURVEUJaWoSKcoiqIoSkpRYURRFEVRlJSiwoiiKIqiKClFhRFFURRFUVKKCiOKoiiKoqQUFUYURVEURUkpKowoiqIoipJSVBhRFEVRFCWlqDCiKIqiKEpKUWFEURRFUZSUosKIoiiKoigpRYURRVEURVFSigojiqIoiqKkFBVGFEVRFEVJKSqMKIqiKIqSUlQYURRFURQlpagwoiiKoihKSlFhRFEURVGUlKLCiKIoiqIoKUWFEUVRFEVRUooKI4qiKIqipBQVRhRFURRFSSHG/D+Ky2HypmWkngAAAABJRU5ErkJggg==)\n",
        "\n"
      ],
      "metadata": {
        "id": "FQKpHGyHBEna"
      }
    },
    {
      "cell_type": "code",
      "source": [
        "x = 0\n",
        "numerator = 4*x**3 - 12*x**2 - 9*x + 27\n",
        "\n",
        "numerator\n"
      ],
      "metadata": {
        "colab": {
          "base_uri": "https://localhost:8080/"
        },
        "id": "ZCq-lWacBNMZ",
        "outputId": "d0e2be6a-9f0a-4a34-8000-ecad5d29d279"
      },
      "execution_count": 4,
      "outputs": [
        {
          "output_type": "execute_result",
          "data": {
            "text/plain": [
              "10"
            ]
          },
          "metadata": {},
          "execution_count": 4
        }
      ]
    },
    {
      "cell_type": "code",
      "source": [
        "x = 0\n",
        "denominator = (5*x**2 + 2)**.5 + 3 * abs(x-2.5)\n",
        "\n",
        "denominator"
      ],
      "metadata": {
        "colab": {
          "base_uri": "https://localhost:8080/"
        },
        "id": "pwtTJPqIB8Bx",
        "outputId": "8ad4b5da-b434-41fb-aadd-269f8c93736c"
      },
      "execution_count": 7,
      "outputs": [
        {
          "output_type": "execute_result",
          "data": {
            "text/plain": [
              "8.914213562373096"
            ]
          },
          "metadata": {},
          "execution_count": 7
        }
      ]
    },
    {
      "cell_type": "code",
      "source": [
        "import math\n",
        "x = 0\n",
        "denominator = math.sqrt(5*x**2 + 2) + 3 *abs(x-2.5)\n",
        "\n",
        "denominator"
      ],
      "metadata": {
        "colab": {
          "base_uri": "https://localhost:8080/"
        },
        "id": "oW9aXUCtDgDp",
        "outputId": "c0a612db-21f7-42fb-ce4b-6813a1f11d82"
      },
      "execution_count": 9,
      "outputs": [
        {
          "output_type": "execute_result",
          "data": {
            "text/plain": [
              "8.914213562373096"
            ]
          },
          "metadata": {},
          "execution_count": 9
        }
      ]
    },
    {
      "cell_type": "code",
      "source": [
        "x=0\n",
        "numerator = 4*x**3 - 12*x**2 - 9*x + 27\n",
        "denominator = math.sqrt(5*x**2 + 2) + 3 *abs(x-2.5)\n",
        "\n",
        "y=  numerator/denominator\n",
        "\n",
        "print(y)"
      ],
      "metadata": {
        "colab": {
          "base_uri": "https://localhost:8080/"
        },
        "id": "sIV8eWOKEWX_",
        "outputId": "94d6a633-7540-40c6-a618-9be9ced12b98"
      },
      "execution_count": 10,
      "outputs": [
        {
          "output_type": "stream",
          "name": "stdout",
          "text": [
            "3.0288706694179983\n"
          ]
        }
      ]
    }
  ]
}